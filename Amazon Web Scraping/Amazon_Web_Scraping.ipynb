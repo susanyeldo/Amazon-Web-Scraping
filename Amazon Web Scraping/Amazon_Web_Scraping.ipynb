{
  "cells": [
    {
      "attachments": {},
      "cell_type": "markdown",
      "metadata": {
        "id": "Z6S92E9L2oKA"
      },
      "source": [
        "## Amazon_Web_Scraping"
      ]
    },
    {
      "cell_type": "markdown",
      "metadata": {
        "id": "aVkabL-rRnXu"
      },
      "source": [
        "Aim:\n",
        "\n",
        "\n",
        "1.   To learn how to scrap Amazon data and create a usable dataset out of the same\n",
        "2.   To continuously track prices of an Amazon product and send myself a mail when the prices dip below a certain price\n",
        "\n"
      ]
    },
    {
      "cell_type": "markdown",
      "metadata": {
        "id": "-TnrXR0Y827R"
      },
      "source": [
        "Product: https://www.amazon.in/Apple-iPhone-13-128GB-Midnight/dp/B09G9HD6PD/ref=sr_1_1_sspa?crid=2XV7FCJPHWSFZ&keywords=iphone+13&qid=1686225679&sprefix=iphone+13%2Caps%2C405&sr=8-1-spons&sp_csd=d2lkZ2V0TmFtZT1zcF9hdGY&psc=1"
      ]
    },
    {
      "attachments": {},
      "cell_type": "markdown",
      "metadata": {},
      "source": [
        "About the libraries:\n",
        "\n",
        "1. Beautiful Soup(bs4) is a Python library for pulling data out of HTML and XML files.\n",
        "2. Request allows you to send HTTP/1.1 requests extremely easily."
      ]
    },
    {
      "cell_type": "code",
      "execution_count": 1,
      "metadata": {
        "id": "ljHQbQ8G2AsD"
      },
      "outputs": [],
      "source": [
        "#import libraries\n",
        "\n",
        "#for parsing HTML and XML documents\n",
        "from bs4 import BeautifulSoup\n",
        "import requests\n",
        "import time\n",
        "import datetime\n",
        "# for sending e-mails to yourself\n",
        "import smtplib"
      ]
    },
    {
      "cell_type": "code",
      "execution_count": 41,
      "metadata": {
        "colab": {
          "base_uri": "https://localhost:8080/"
        },
        "id": "Q-FZgyFO4nL9",
        "outputId": "c3e89831-7b29-4b26-cda5-41b146371191"
      },
      "outputs": [
        {
          "name": "stdout",
          "output_type": "stream",
          "text": [
            "Apple iPhone 13 (128GB) - Midnight\n",
            "61,999\n"
          ]
        }
      ],
      "source": [
        "# Connect to Website and pull in data\n",
        "\n",
        "URL = 'https://www.amazon.in/Apple-iPhone-13-128GB-Midnight/dp/B09G9HD6PD/ref=sr_1_1_sspa?crid=2XV7FCJPHWSFZ&keywords=iphone+13&qid=1686225679&sprefix=iphone+13%2Caps%2C405&sr=8-1-spons&sp_csd=d2lkZ2V0TmFtZT1zcF9hdGY&psc=1'\n",
        "headers = {\"User-Agent\": \"Mozilla/5.0 (Windows NT 10.0; Win64; x64) AppleWebKit/537.36 (KHTML, like Gecko) Chrome/113.0.0.0 Safari/537.36\"}\n",
        "\n",
        "page = requests.get(URL, headers=headers)\n",
        "\n",
        "soup1 = BeautifulSoup(page.content, \"html.parser\")\n",
        "soup2 = BeautifulSoup(soup1.prettify(), \"html.parser\")\n",
        "\n",
        "#Using span ids\n",
        "title = soup2.find(id='productTitle').get_text()\n",
        "price = soup2.find(id='apex_desktop').get_text()\n",
        "\n",
        "# Clean up the data a little bit\n",
        "title = title.strip()\n",
        "price = price[53:59]\n",
        "\n",
        "\n",
        "print(title)\n",
        "print(price)"
      ]
    },
    {
      "cell_type": "code",
      "execution_count": 42,
      "metadata": {
        "colab": {
          "base_uri": "https://localhost:8080/"
        },
        "id": "6dghi6WBAAkc",
        "outputId": "eec61e04-9cf8-4a8b-cbd5-392b1cc69057"
      },
      "outputs": [
        {
          "name": "stdout",
          "output_type": "stream",
          "text": [
            "2023-06-08\n"
          ]
        }
      ],
      "source": [
        "# Create a Timestamp for your output to track when data was collected\n",
        "\n",
        "import datetime\n",
        "\n",
        "today = datetime.date.today()\n",
        "print(today)"
      ]
    },
    {
      "cell_type": "code",
      "execution_count": 61,
      "metadata": {
        "id": "tUbmZqRc_zXP"
      },
      "outputs": [],
      "source": [
        "# Create CSV and write headers and data into the file\n",
        "\n",
        "import csv \n",
        "\n",
        "header = ['Title', 'Price', 'Date']\n",
        "data = [title, price, today]\n",
        "\n",
        "#So that I accidently don't erase my data\n",
        "\n",
        "#with open('AmazonWebScraperDataset.csv', 'w', newline='', encoding='UTF8') as f:\n",
        "    #writer = csv.writer(f)\n",
        "    #writer.writerow(header)\n",
        "    #writer.writerow(data)\n",
        "    "
      ]
    },
    {
      "cell_type": "code",
      "execution_count": 50,
      "metadata": {
        "colab": {
          "base_uri": "https://localhost:8080/"
        },
        "id": "1Nw0cq9_LEi_",
        "outputId": "9898c069-5180-44a2-813c-78c9ff581f15"
      },
      "outputs": [
        {
          "name": "stdout",
          "output_type": "stream",
          "text": [
            "                                Title   Price        Date\n",
            "0  Apple iPhone 13 (128GB) - Midnight  61,999  2023-06-08\n",
            "1  Apple iPhone 13 (128GB) - Midnight  61,999  2023-06-08\n",
            "2  Apple iPhone 13 (128GB) - Midnight  61,999  2023-06-08\n"
          ]
        }
      ],
      "source": [
        "import pandas as pd\n",
        "\n",
        "df = pd.read_csv(r'AmazonWebScraperDataset.csv')\n",
        "print(df)\n"
      ]
    },
    {
      "cell_type": "code",
      "execution_count": 49,
      "metadata": {
        "id": "Dwz-hl--Mpbv"
      },
      "outputs": [],
      "source": [
        "#Now we are appending data to the csv\n",
        "\n",
        "with open('AmazonWebScraperDataset.csv', 'a+', newline='', encoding='UTF8') as f:\n",
        "    writer = csv.writer(f)\n",
        "    writer.writerow(data)"
      ]
    },
    {
      "cell_type": "code",
      "execution_count": 56,
      "metadata": {
        "id": "9hqg7DktMvq1"
      },
      "outputs": [],
      "source": [
        "#Combine all of the above code into one function\n",
        "\n",
        "\n",
        "def check_price():\n",
        "  # Connect to Website and pull in data\n",
        "\n",
        "  URL = 'https://www.amazon.in/Apple-iPhone-13-128GB-Midnight/dp/B09G9HD6PD/ref=sr_1_1_sspa?crid=2XV7FCJPHWSFZ&keywords=iphone+13&qid=1686225679&sprefix=iphone+13%2Caps%2C405&sr=8-1-spons&sp_csd=d2lkZ2V0TmFtZT1zcF9hdGY&psc=1'\n",
        "  headers = {\"User-Agent\": \"Mozilla/5.0 (Windows NT 10.0; Win64; x64) AppleWebKit/537.36 (KHTML, like Gecko) Chrome/113.0.0.0 Safari/537.36\"}\n",
        "\n",
        "  page = requests.get(URL, headers=headers)\n",
        "\n",
        "  soup1 = BeautifulSoup(page.content, \"html.parser\")\n",
        "  soup2 = BeautifulSoup(soup1.prettify(), \"html.parser\")\n",
        "\n",
        "  # Using span ids\n",
        "  title = soup2.find(id='productTitle').get_text()\n",
        "  price = soup2.find(id='apex_desktop').get_text()\n",
        "\n",
        "  # Clean up the data a little bit\n",
        "  title = title.strip()\n",
        "  price = price[53:59]\n",
        "\n",
        "  import datetime\n",
        "\n",
        "  today = datetime.date.today()\n",
        "    \n",
        "  import csv \n",
        "\n",
        "  header = ['Title', 'Price', 'Date']\n",
        "  data = [title, price, today]\n",
        "\n",
        "  with open('AmazonWebScraperDataset.csv', 'a+', newline='', encoding='UTF8') as f:\n",
        "      writer = csv.writer(f)\n",
        "      writer.writerow(data)\n",
        "\n",
        "  if (price<62,000):\n",
        "    send_mail()\n"
      ]
    },
    {
      "cell_type": "code",
      "execution_count": null,
      "metadata": {
        "id": "HratQ_stPet0"
      },
      "outputs": [],
      "source": [
        "# Runs check_price after a set time and inputs data into your CSV\n",
        "\n",
        "while(True):\n",
        "    check_price()\n",
        "    time.sleep(86400)"
      ]
    },
    {
      "cell_type": "code",
      "execution_count": 54,
      "metadata": {
        "colab": {
          "base_uri": "https://localhost:8080/"
        },
        "id": "PdC5_WR-ODcH",
        "outputId": "82aa8917-4a2a-4590-c637-325657a521fe"
      },
      "outputs": [
        {
          "name": "stdout",
          "output_type": "stream",
          "text": [
            "                                Title   Price        Date\n",
            "0  Apple iPhone 13 (128GB) - Midnight  61,999  2023-06-08\n",
            "1  Apple iPhone 13 (128GB) - Midnight  61,999  2023-06-08\n",
            "2  Apple iPhone 13 (128GB) - Midnight  61,999  2023-06-08\n",
            "3  Apple iPhone 13 (128GB) - Midnight  61,999  2023-06-08\n"
          ]
        }
      ],
      "source": [
        "import pandas as pd\n",
        "\n",
        "df = pd.read_csv(r'AmazonWebScraperDataset.csv')\n",
        "print(df)"
      ]
    },
    {
      "cell_type": "code",
      "execution_count": 19,
      "metadata": {
        "id": "yEuEFxTuOXh_"
      },
      "outputs": [],
      "source": [
        "# Sending myself a mail if the price of iPhone dips below Rs. 62,000\n",
        "\n",
        "import smtplib\n",
        "from email.message import EmailMessage\n",
        "\n",
        "def send_mail():\n",
        "  # Import smtplib\n",
        "  server = smtplib.SMTP('smtp.gmail.com', 587)\n",
        "\n",
        "  # Set up a secure connection\n",
        "  server.starttls()\n",
        "\n",
        "  # Login to your email account\n",
        "  server.login('susanna.yeldo@gmail.com', 'xvwcrggzxjhjhhoj')\n",
        "\n",
        "  # Create an email message\n",
        "\n",
        "  message = \"Susanna, This is the moment we have been waiting for. Now is your chance to pick up the iPhone of your dreams\"\n",
        "  message=message+\"\\n\"+\"Link: https://www.amazon.in/Apple-iPhone-13-128GB-Midnight/dp/B09G9HD6PD/ref=sr_1_1_sspa?crid=2XV7FCJPHWSFZ&keywords=iphone+13&qid=1686225679&sprefix=iphone+13%2Caps%2C405&sr=8-1-spons&sp_csd=d2lkZ2V0TmFtZT1zcF9hdGY&psc=1\"\n",
        "  msg = EmailMessage()\n",
        "  msg['Subject'] = 'IPhone is below Rs.62,000! Now is your chance to buy!'\n",
        "  msg['From'] = 'susanna.yeldo@gmail.com'\n",
        "  msg['To'] = 'susanna.yeldo@gmail.com'\n",
        "  msg.set_content(message)\n",
        "\n",
        "  # Send the email message\n",
        "  server.sendmail('your_email_address', to_email, msg.as_string())\n",
        "\n",
        "  # Quit the SMTP server\n",
        "  server.quit()"
      ]
    },
    {
      "cell_type": "markdown",
      "metadata": {
        "id": "5lo1olD_UKqv"
      },
      "source": [
        "Precaution to be taken:\n",
        "\n",
        "As of May 2023, external access to gmail is allowed only with Two-factor Authentication. Moreover, you must generate an app specific password for gmail for authentication for server login which is NOT the same as your gmail password."
      ]
    }
  ],
  "metadata": {
    "colab": {
      "provenance": []
    },
    "kernelspec": {
      "display_name": "Python 3",
      "name": "python3"
    },
    "language_info": {
      "name": "python"
    }
  },
  "nbformat": 4,
  "nbformat_minor": 0
}
